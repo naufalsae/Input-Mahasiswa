{
 "cells": [
  {
   "cell_type": "code",
   "execution_count": null,
   "metadata": {
    "id": "rHy5qNEzCw4G"
   },
   "outputs": [],
   "source": []
  },
  {
   "cell_type": "markdown",
   "metadata": {
    "id": "01TN_fjwL-dN"
   },
   "source": [
    "Buatlah aplikasi Data Mahasiswa sebagai berikut:\n",
    "\n",
    "INPUT DATA MAHASISWA\n",
    "\n",
    "NIM    :\n",
    "\n",
    "NAMA   :\n",
    "\n",
    "ALAMAT :\n",
    "\n",
    "JURUSAN :\n",
    "\n",
    "KETERANGAN JURUSAN [1] SISTEM INFORMASI [2] TEKNIK INFORMATIKA\n",
    "\n",
    "Apakah Anda ingin memasukkan data lagi ? (Y) Ya ; (T) Tidak : \n",
    "\n",
    "\n"
   ]
  },
  {
   "cell_type": "markdown",
   "metadata": {
    "id": "NlRdQu4hNPdv"
   },
   "source": [
    "**Requirement I**\n",
    "\n",
    "Perulangan input akan terjadi jika user memasukkan “Y”, maka selanjutnya akan memasukkan data mahasiswa lagi dan jika user memasukkan data “T”, maka aplikasi berhenti, kemudian menampilkan data yang telah dimasukan.\n"
   ]
  },
  {
   "cell_type": "markdown",
   "metadata": {
    "id": "wj2BlsC-OFSW"
   },
   "source": [
    "**Requirement II**\n",
    "\n",
    "Desainlah aplikasi Data Mahasiswa tersebut dengan konsep enkapsulasi, constructor dan inheritance (tentukan parent class dan child class)."
   ]
  },
  {
   "cell_type": "markdown",
   "metadata": {
    "id": "cIX3WGqPOLzF"
   },
   "source": [
    "**Requirement III**\n",
    "\n",
    "Implementasikan class-class yang telah didesain dengan membuat program sederhana entri data Mahasiswa "
   ]
  },
  {
   "cell_type": "code",
   "execution_count": null,
   "metadata": {
    "id": "Ge48DNVFDqjh"
   },
   "outputs": [
    {
     "name": "stdout",
     "output_type": "stream",
     "text": [
      "1. masukan data.\n",
      "2. tampilkan data.\n",
      "3. hapus data.\n",
      "0. exit.\n",
      "masukan pilihan anda : 1\n",
      "\n",
      "\n",
      "\n",
      "masukan nim : 11190438\n",
      "masukan nama : khairullah naufal\n",
      "masukan jurusan : sistem informasi\n",
      "masukan asal : riau\n",
      "\n",
      "\n",
      "\n",
      "1. masukan data.\n",
      "2. tampilkan data.\n",
      "3. hapus data.\n",
      "0. exit.\n",
      "masukan pilihan anda : 2\n",
      "\n",
      "\n",
      "\n",
      "nim\tnama\tjurusan\tasal\n",
      "11190438 \t khairullah naufal \t sistem informasi \t riau \t\n",
      "\n",
      "\n",
      "\n",
      "1. masukan data.\n",
      "2. tampilkan data.\n",
      "3. hapus data.\n",
      "0. exit.\n"
     ]
    }
   ],
   "source": [
    "#Jawaban Tugas 6\n",
    "\n",
    "nim = []\n",
    "nama = []\n",
    "jurusan = []\n",
    "asal = []\n",
    "\n",
    "pilihan = 1\n",
    "while pilihan != 0 :\n",
    "    print (\"1. masukan data.\")\n",
    "    print (\"2. tampilkan data.\")\n",
    "    print (\"3. hapus data.\")\n",
    "    print (\"0. exit.\")\n",
    "\n",
    "    pilihan = int(input(\"masukan pilihan anda : \"))\n",
    "    print('')\n",
    "    print('')\n",
    "    print('')\n",
    "    if pilihan == 1 :\n",
    "        masnim = input(\"masukan nim : \")\n",
    "        nim.append({'nim' : masnim})\n",
    "        masnama = input(\"masukan nama : \")\n",
    "        nama.append({'nama' : masnama})\n",
    "        masjur = input(\"masukan jurusan : \")\n",
    "        jurusan.append({'jurusan' : masjur})\n",
    "        masasal = input(\"masukan asal : \")\n",
    "        asal.append({'asal' : masasal})\n",
    "        \n",
    "        \n",
    "    elif pilihan == 2 :\n",
    "        penentu = True\n",
    "        for i in range (len(nim)) :\n",
    "            if penentu :\n",
    "                print (\"nim\\tnama\\tjurusan\\tasal\")\n",
    "            print (nim[i]['nim'],'\\t',nama[i]['nama'],'\\t',jurusan[i]['jurusan'],'\\t',asal[i]['asal'],'\\t')\n",
    "            penentu = False\n",
    "            \n",
    "    elif pilihan == 3 :\n",
    "        masnim = input(\"masukan nim : \")\n",
    "        for i in range (len(nim)) :\n",
    "            if masnim == nim[i]['nim'] :\n",
    "                print (i)\n",
    "                del nim[i]\n",
    "                del nama[i]\n",
    "                del jurusan[i]\n",
    "                del asal[i]\n",
    "                break\n",
    "    print('')\n",
    "    print('')\n",
    "    print('')"
   ]
  },
  {
   "cell_type": "code",
   "execution_count": null,
   "metadata": {},
   "outputs": [],
   "source": []
  }
 ],
 "metadata": {
  "colab": {
   "collapsed_sections": [],
   "name": "Tugas_6.ipynb",
   "provenance": []
  },
  "kernelspec": {
   "display_name": "Python 3",
   "language": "python",
   "name": "python3"
  }
 },
 "nbformat": 4,
 "nbformat_minor": 1
}
